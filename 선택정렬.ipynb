{
 "cells": [
  {
   "cell_type": "code",
   "execution_count": 2,
   "id": "bcbffdaa",
   "metadata": {},
   "outputs": [
    {
     "name": "stdout",
     "output_type": "stream",
     "text": [
      "[1, 2, 3, 4, 5]\n"
     ]
    }
   ],
   "source": [
    "def s_sort(n):\n",
    "    for i in range(len(n)-1):\n",
    "        min_index = i\n",
    "        for j in range(i+1,len(n)):\n",
    "            if n[min_index]>n[j]:\n",
    "                min_index = j\n",
    "        n[i],n[min_index]=n[min_index],n[i]\n",
    "    print(n)\n",
    "a=[5,4,2,1,3]\n",
    "s_sort(a)"
   ]
  },
  {
   "cell_type": "code",
   "execution_count": 14,
   "id": "5783e0a4",
   "metadata": {
    "scrolled": true
   },
   "outputs": [
    {
     "name": "stdout",
     "output_type": "stream",
     "text": [
      "[1, 2, 3, 4, 5]\n"
     ]
    }
   ],
   "source": [
    "def s_sort(n):\n",
    "    for i in range(1,len(n)):\n",
    "        index= n[i]\n",
    "        j = i -1\n",
    "        while index<n[j] and j>=0:\n",
    "            n[j+1]=n[j]\n",
    "            j=j-1\n",
    "        n[j+1]=index\n",
    "        \n",
    "    print(n)\n",
    "a=[5,4,2,1,3]\n",
    "s_sort(a)      "
   ]
  },
  {
   "cell_type": "code",
   "execution_count": null,
   "id": "e468e746",
   "metadata": {},
   "outputs": [],
   "source": []
  },
  {
   "cell_type": "code",
   "execution_count": null,
   "id": "60fd7f92",
   "metadata": {},
   "outputs": [],
   "source": []
  }
 ],
 "metadata": {
  "kernelspec": {
   "display_name": "Python 3 (ipykernel)",
   "language": "python",
   "name": "python3"
  },
  "language_info": {
   "codemirror_mode": {
    "name": "ipython",
    "version": 3
   },
   "file_extension": ".py",
   "mimetype": "text/x-python",
   "name": "python",
   "nbconvert_exporter": "python",
   "pygments_lexer": "ipython3",
   "version": "3.11.5"
  }
 },
 "nbformat": 4,
 "nbformat_minor": 5
}
