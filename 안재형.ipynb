{
 "cells": [
  {
   "cell_type": "code",
   "execution_count": 2,
   "id": "9b87a82e",
   "metadata": {},
   "outputs": [
    {
     "name": "stdout",
     "output_type": "stream",
     "text": [
      "장대웅\n"
     ]
    }
   ],
   "source": [
    "distance = {'장대웅':353.2, '최치우':298.3,'김주환':306.5}\n",
    "max = 0\n",
    "winner=''\n",
    "for item in distance:\n",
    "    if max < distance[item]:\n",
    "        max = distance[item]\n",
    "        winner = item\n",
    "print(winner)\n",
    "    \n",
    "    "
   ]
  },
  {
   "cell_type": "code",
   "execution_count": null,
   "id": "cfba817e",
   "metadata": {},
   "outputs": [],
   "source": [
    "a,b = map(int,input().split())\n",
    "L=set()\n",
    "a_=set()\n",
    "b_=set()\n",
    "for i in range(1,a+1):\n",
    "    if a % i == 0:\n",
    "        a_.add(i)\n",
    "for j in range(1,b+1):\n",
    "    if b % j == 0:\n",
    "        b_.add(j)\n",
    "\n",
    "L = a_&b_\n",
    "print(L)"
   ]
  },
  {
   "cell_type": "code",
   "execution_count": 5,
   "id": "60ba916d",
   "metadata": {},
   "outputs": [
    {
     "name": "stdout",
     "output_type": "stream",
     "text": [
      "3\n"
     ]
    }
   ],
   "source": [
    "def max(a,b,c):\n",
    "    max = 0\n",
    "    if max < a:\n",
    "        max = a\n",
    "        if max < b:\n",
    "            max = b\n",
    "            if max < c:\n",
    "                max = c\n",
    "    return max\n",
    "\n",
    "print(max(1,2,3))"
   ]
  },
  {
   "cell_type": "code",
   "execution_count": 6,
   "id": "ed33cf74",
   "metadata": {},
   "outputs": [
    {
     "name": "stdout",
     "output_type": "stream",
     "text": [
      "10\n"
     ]
    }
   ],
   "source": [
    "print(max(3,10,3))"
   ]
  },
  {
   "cell_type": "code",
   "execution_count": 1,
   "id": "1571780f",
   "metadata": {},
   "outputs": [
    {
     "name": "stdout",
     "output_type": "stream",
     "text": [
      "1 2 3 4 5\n",
      "<class 'list'>\n",
      "['1', '2', '3', '4', '5']\n"
     ]
    }
   ],
   "source": [
    "a= input().split(' ')\n",
    "print(type(a))\n",
    "print(a)\n"
   ]
  },
  {
   "cell_type": "code",
   "execution_count": 4,
   "id": "3c11f180",
   "metadata": {},
   "outputs": [
    {
     "name": "stdout",
     "output_type": "stream",
     "text": [
      "1 2 3 4 5\n",
      "[1, 2, 3, 4, 5]\n"
     ]
    }
   ],
   "source": [
    "def test(a):\n",
    "    print(a)\n",
    "a= list(map(int,input().split(' ')))\n",
    "test(a)"
   ]
  },
  {
   "cell_type": "code",
   "execution_count": null,
   "id": "0d613f7b",
   "metadata": {},
   "outputs": [],
   "source": []
  }
 ],
 "metadata": {
  "kernelspec": {
   "display_name": "Python 3 (ipykernel)",
   "language": "python",
   "name": "python3"
  },
  "language_info": {
   "codemirror_mode": {
    "name": "ipython",
    "version": 3
   },
   "file_extension": ".py",
   "mimetype": "text/x-python",
   "name": "python",
   "nbconvert_exporter": "python",
   "pygments_lexer": "ipython3",
   "version": "3.11.5"
  }
 },
 "nbformat": 4,
 "nbformat_minor": 5
}
