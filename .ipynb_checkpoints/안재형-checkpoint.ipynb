{
 "cells": [
  {
   "cell_type": "code",
   "execution_count": null,
   "id": "cbaf58f9",
   "metadata": {},
   "outputs": [],
   "source": [
    "distance = {'장대웅':353.2, '최치우':298.3,'김주환':306.5}\n",
    "max = 0\n",
    "for item in distance:\n",
    "    if max < distance[item]:\n",
    "        max = distance[item]\n",
    "    \n",
    "print(distance.index(max))\n",
    "    \n",
    "    "
   ]
  }
 ],
 "metadata": {
  "kernelspec": {
   "display_name": "Python 3 (ipykernel)",
   "language": "python",
   "name": "python3"
  },
  "language_info": {
   "codemirror_mode": {
    "name": "ipython",
    "version": 3
   },
   "file_extension": ".py",
   "mimetype": "text/x-python",
   "name": "python",
   "nbconvert_exporter": "python",
   "pygments_lexer": "ipython3",
   "version": "3.11.5"
  }
 },
 "nbformat": 4,
 "nbformat_minor": 5
}
