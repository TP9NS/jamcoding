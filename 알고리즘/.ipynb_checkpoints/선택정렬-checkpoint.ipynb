{
 "cells": [
  {
   "cell_type": "code",
   "execution_count": 1,
   "id": "bcbffdaa",
   "metadata": {},
   "outputs": [
    {
     "name": "stdout",
     "output_type": "stream",
     "text": [
      "[1, 2, 3, 4, 5]\n"
     ]
    }
   ],
   "source": [
    "def s_sort(n):\n",
    "    for i in range(len(n)-1):\n",
    "        min_index = i\n",
    "        for j in range(i+1,len(n)):\n",
    "            if n[min_index]>n[j]:\n",
    "                min_index = j\n",
    "        n[i],n[min_index]=n[min_index],n[i]\n",
    "    print(n)\n",
    "a=[5,4,2,1,3]\n",
    "s_sort(a)"
   ]
  },
  {
   "cell_type": "code",
   "execution_count": 4,
   "id": "591b8442",
   "metadata": {},
   "outputs": [
    {
     "name": "stdout",
     "output_type": "stream",
     "text": [
      "0\n",
      "[1, 4, 2, 5, 3]\n",
      "1\n",
      "[1, 2, 4, 5, 3]\n",
      "2\n",
      "[1, 2, 3, 5, 4]\n",
      "3\n",
      "[1, 2, 3, 4, 5]\n"
     ]
    }
   ],
   "source": [
    "def s_sort(n):\n",
    "    for i in range(len(n)-1):\n",
    "        min_index = i\n",
    "        print(min_index)\n",
    "        for j in range(i+1,len(n)):\n",
    "            if n[min_index]>n[j]:\n",
    "                min_index = j\n",
    "        n[i],n[min_index]=n[min_index],n[i]\n",
    "        print(n)\n",
    "a=[5,4,2,1,3]\n",
    "s_sort(a)"
   ]
  },
  {
   "cell_type": "code",
   "execution_count": null,
   "id": "92f14b86",
   "metadata": {},
   "outputs": [],
   "source": []
  }
 ],
 "metadata": {
  "kernelspec": {
   "display_name": "Python 3 (ipykernel)",
   "language": "python",
   "name": "python3"
  },
  "language_info": {
   "codemirror_mode": {
    "name": "ipython",
    "version": 3
   },
   "file_extension": ".py",
   "mimetype": "text/x-python",
   "name": "python",
   "nbconvert_exporter": "python",
   "pygments_lexer": "ipython3",
   "version": "3.11.5"
  }
 },
 "nbformat": 4,
 "nbformat_minor": 5
}
