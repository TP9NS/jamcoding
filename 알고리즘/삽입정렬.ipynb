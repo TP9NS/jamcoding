{
 "cells": [
  {
   "cell_type": "code",
   "execution_count": 1,
   "id": "ea2f7e1d",
   "metadata": {},
   "outputs": [
    {
     "name": "stdout",
     "output_type": "stream",
     "text": [
      "[1, 2, 3, 4, 5]\n"
     ]
    }
   ],
   "source": [
    "def s_sort(n):\n",
    "    for i in range(1,len(n)):\n",
    "        index= n[i]\n",
    "        j = i -1\n",
    "        while index<n[j] and j>=0:\n",
    "            n[j+1]=n[j]\n",
    "            j=j-1\n",
    "        n[j+1]=index\n",
    "        \n",
    "    print(n)\n",
    "a=[5,4,2,1,3]\n",
    "s_sort(a)      "
   ]
  },
  {
   "cell_type": "code",
   "execution_count": 4,
   "id": "b0331c53",
   "metadata": {},
   "outputs": [
    {
     "name": "stdout",
     "output_type": "stream",
     "text": [
      "[1, 2, 3, 4, 5]\n"
     ]
    }
   ],
   "source": [
    "def s_sort(n):\n",
    "    for i in range(1,len(n)):\n",
    "        key = n[i]\n",
    "        j=i-1\n",
    "        while j>=0 and n[j]>key:\n",
    "            n[j+1]=n[j]\n",
    "            j=j-1\n",
    "        n[j+1] = key\n",
    "    return n\n",
    "print(s_sort([4,2,3,1,5]))"
   ]
  },
  {
   "cell_type": "code",
   "execution_count": 5,
   "id": "1d03952e",
   "metadata": {},
   "outputs": [
    {
     "name": "stdout",
     "output_type": "stream",
     "text": [
      "정렬된 배열: [3, 5, 6, 7, 9]\n"
     ]
    }
   ],
   "source": [
    "def insertion_sort(arr):\n",
    "\n",
    "    for i in range(1, len(arr)): # 1->4\n",
    "        key = arr[i]\n",
    "        j = i - 1\n",
    "        while j >= 0 and arr[j] > key:\n",
    "            arr[j + 1] = arr[j]\n",
    "            j -= 1\n",
    "        arr[j + 1] = key\n",
    "    return arr\n",
    "\n",
    "# 예시 실행\n",
    "arr = [9, 7, 3, 5, 6]\n",
    "sorted_arr = insertion_sort(arr)\n",
    "print(f\"정렬된 배열: {sorted_arr}\")\n"
   ]
  },
  {
   "cell_type": "code",
   "execution_count": null,
   "id": "b0b8e7f6",
   "metadata": {},
   "outputs": [],
   "source": []
  }
 ],
 "metadata": {
  "kernelspec": {
   "display_name": "Python 3 (ipykernel)",
   "language": "python",
   "name": "python3"
  },
  "language_info": {
   "codemirror_mode": {
    "name": "ipython",
    "version": 3
   },
   "file_extension": ".py",
   "mimetype": "text/x-python",
   "name": "python",
   "nbconvert_exporter": "python",
   "pygments_lexer": "ipython3",
   "version": "3.11.5"
  }
 },
 "nbformat": 4,
 "nbformat_minor": 5
}
