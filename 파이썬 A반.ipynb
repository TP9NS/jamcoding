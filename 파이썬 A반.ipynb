{
 "cells": [
  {
   "cell_type": "markdown",
   "id": "fe2c9562",
   "metadata": {},
   "source": [
    "파이썬A 97P"
   ]
  },
  {
   "cell_type": "code",
   "execution_count": 6,
   "id": "9c752505",
   "metadata": {},
   "outputs": [
    {
     "name": "stdout",
     "output_type": "stream",
     "text": [
      "양의 정수를 입력하세요: 9\n",
      "3\n"
     ]
    }
   ],
   "source": [
    "number = int(input('양의 정수를 입력하세요: '))\n",
    "i=1\n",
    "cnt=0\n",
    "while i <= number:\n",
    "    if number % i == 0:\n",
    "        cnt=cnt+1\n",
    "    i=i+1\n",
    "print(cnt)"
   ]
  },
  {
   "cell_type": "markdown",
   "id": "8c52f478",
   "metadata": {},
   "source": [
    "98P"
   ]
  },
  {
   "cell_type": "code",
   "execution_count": 4,
   "id": "3bc6f46d",
   "metadata": {},
   "outputs": [
    {
     "name": "stdout",
     "output_type": "stream",
     "text": [
      "양의 정수를 입력하세요: 10\n",
      "[2, 5]\n"
     ]
    }
   ],
   "source": [
    "number = int(input('양의 정수를 입력하세요: '))\n",
    "i=2\n",
    "a=[]\n",
    "while i <= number:\n",
    "    if number % i == 0:\n",
    "        number = number / i\n",
    "        a.append(i)\n",
    "        \n",
    "    i=i+1\n",
    "    \n",
    "print(a)"
   ]
  },
  {
   "cell_type": "code",
   "execution_count": 7,
   "id": "1ee98a96",
   "metadata": {},
   "outputs": [
    {
     "ename": "SyntaxError",
     "evalue": "invalid syntax (2365473813.py, line 1)",
     "output_type": "error",
     "traceback": [
      "\u001b[1;36m  Cell \u001b[1;32mIn[7], line 1\u001b[1;36m\u001b[0m\n\u001b[1;33m    a = [i for i in range(10) if i == 1 else i=2]\u001b[0m\n\u001b[1;37m                                        ^\u001b[0m\n\u001b[1;31mSyntaxError\u001b[0m\u001b[1;31m:\u001b[0m invalid syntax\n"
     ]
    }
   ],
   "source": [
    "a = [i for i in range(10) if i == 1 else i=2]\n",
    "print(a)"
   ]
  },
  {
   "cell_type": "code",
   "execution_count": 1,
   "id": "2616dad8",
   "metadata": {},
   "outputs": [
    {
     "name": "stdout",
     "output_type": "stream",
     "text": [
      "10 20\n",
      "10 20\n"
     ]
    }
   ],
   "source": [
    "a,b = map(int,input().split())\n",
    "print(a,b)"
   ]
  },
  {
   "cell_type": "code",
   "execution_count": 1,
   "id": "836bf518",
   "metadata": {},
   "outputs": [
    {
     "name": "stdout",
     "output_type": "stream",
     "text": [
      "3 4\n",
      "[1, 2, 3, 4]\n",
      "[1, 2, 3, 4]\n",
      "[1, 2, 3, 4]\n"
     ]
    }
   ],
   "source": [
    "L=[]\n",
    "c=0\n",
    "a,b=map(int,input().split())\n",
    "for i in range(1,a+1):\n",
    "    c==a+96    \n",
    "    for j in range(1,b+1):\n",
    "        L.append(c+j)\n",
    "    print(L)\n",
    "    L=[]\n"
   ]
  },
  {
   "cell_type": "code",
   "execution_count": 4,
   "id": "4df269b1",
   "metadata": {},
   "outputs": [
    {
     "name": "stdout",
     "output_type": "stream",
     "text": [
      "01:05:15\n"
     ]
    },
    {
     "ename": "TypeError",
     "evalue": "'>=' not supported between instances of 'str' and 'int'",
     "output_type": "error",
     "traceback": [
      "\u001b[1;31m---------------------------------------------------------------------------\u001b[0m",
      "\u001b[1;31mTypeError\u001b[0m                                 Traceback (most recent call last)",
      "Cell \u001b[1;32mIn[4], line 13\u001b[0m\n\u001b[0;32m     11\u001b[0m s\u001b[38;5;241m=\u001b[39ms\u001b[38;5;241m+\u001b[39ma[\u001b[38;5;241m6\u001b[39m:\u001b[38;5;241m8\u001b[39m]  \n\u001b[0;32m     12\u001b[0m a\u001b[38;5;241m=\u001b[39m\u001b[38;5;241m0\u001b[39m\n\u001b[1;32m---> 13\u001b[0m \u001b[38;5;28;01mif\u001b[39;00m s\u001b[38;5;241m>\u001b[39m\u001b[38;5;241m=\u001b[39m\u001b[38;5;241m60\u001b[39m:\n\u001b[0;32m     14\u001b[0m     s\u001b[38;5;241m=\u001b[39ms\u001b[38;5;241m-\u001b[39m\u001b[38;5;241m60\u001b[39m\n\u001b[0;32m     15\u001b[0m     m\u001b[38;5;241m=\u001b[39mm\u001b[38;5;241m+\u001b[39m\u001b[38;5;241m1\u001b[39m\n",
      "\u001b[1;31mTypeError\u001b[0m: '>=' not supported between instances of 'str' and 'int'"
     ]
    }
   ],
   "source": [
    "h=''\n",
    "m=''\n",
    "s=''\n",
    "L=[]\n",
    "while True:\n",
    "    a=input()\n",
    "    if a=='-1':\n",
    "        break\n",
    "    h=h+a[0:2]\n",
    "    m=m+a[3:5]\n",
    "    s=s+a[6:8]  \n",
    "    a=0\n",
    "    if s>=60:\n",
    "        s=s-60\n",
    "        m=m+1\n",
    "    elif m>=60:\n",
    "        m=m-60\n",
    "        h=h+1\n",
    "print(f'{h}시간 {m}분 {s}초')\n",
    "\n"
   ]
  },
  {
   "cell_type": "code",
   "execution_count": 5,
   "id": "933ffc1c",
   "metadata": {},
   "outputs": [
    {
     "name": "stdout",
     "output_type": "stream",
     "text": [
      "자동차\n",
      "차이점\n",
      "점박이\n",
      "이자\n",
      "끝\n",
      "고리묶음단어가 아닙니다.\n"
     ]
    }
   ],
   "source": [
    "c=0\n",
    "a=input()\n",
    "while True:\n",
    "    if a=='끝':  \n",
    "        break\n",
    "    b=input()\n",
    "    if a[-1]==b[0]:\n",
    "        c=c+0\n",
    "    else:\n",
    "        c=c+1\n",
    "    a=input()\n",
    "if c > 0:\n",
    "    print('고리묶음 단어입니다.')\n",
    "else:\n",
    "    print('고리묶음단어가 아닙니다.')\n"
   ]
  },
  {
   "cell_type": "code",
   "execution_count": 11,
   "id": "81d30984",
   "metadata": {},
   "outputs": [
    {
     "name": "stdout",
     "output_type": "stream",
     "text": [
      "1\n",
      "1\n",
      "2\n",
      "3\n",
      "5\n",
      "8\n",
      "13\n",
      "21\n",
      "34\n"
     ]
    }
   ],
   "source": [
    "def fib(n):\n",
    "    if n==1 or n==2:\n",
    "        return 1\n",
    "    else:\n",
    "        return fib(n-1) + fib(n-2)\n",
    "\n",
    "for i in range(1,10):\n",
    "    print(fib(i))"
   ]
  },
  {
   "cell_type": "code",
   "execution_count": 9,
   "id": "58fb7afb",
   "metadata": {},
   "outputs": [
    {
     "name": "stdout",
     "output_type": "stream",
     "text": [
      "금액 입력8\n",
      "불가능\n"
     ]
    }
   ],
   "source": [
    "n = int(input(\"금액 입력\"))\n",
    "\n",
    "max7 = n//7 +1\n",
    "max17= n//17 +1\n",
    "max27= n//27 +1\n",
    "\n",
    "flag = 0\n",
    "\n",
    "for i in range(0,max7):\n",
    "    for j in range(0,max17):\n",
    "        for k in range(0,max27):\n",
    "            if (i*7+j*17+k*27) == n:\n",
    "                flag = 1\n",
    "                \n",
    "if flag ==1:\n",
    "    print(\"가능\")\n",
    "else:\n",
    "    print('불가능')"
   ]
  },
  {
   "cell_type": "code",
   "execution_count": 2,
   "id": "19a094ba",
   "metadata": {},
   "outputs": [],
   "source": [
    "def fact(n):\n",
    "    if n==1:\n",
    "        return 1\n",
    "    else :\n",
    "        fact(n)"
   ]
  },
  {
   "cell_type": "code",
   "execution_count": 3,
   "id": "e8d3bf92",
   "metadata": {},
   "outputs": [
    {
     "data": {
      "text/plain": [
       "'C:\\\\Users\\\\pshcc\\\\jamcoding'"
      ]
     },
     "execution_count": 3,
     "metadata": {},
     "output_type": "execute_result"
    }
   ],
   "source": [
    "import os\n",
    "os.getcwd()"
   ]
  },
  {
   "cell_type": "code",
   "execution_count": 5,
   "id": "0b0c57f2",
   "metadata": {},
   "outputs": [
    {
     "name": "stdout",
     "output_type": "stream",
     "text": [
      "   *\n",
      "  ***\n",
      " *****\n",
      "*******\n"
     ]
    }
   ],
   "source": [
    "\n",
    "        "
   ]
  },
  {
   "cell_type": "code",
   "execution_count": 7,
   "id": "c9a6c8b6",
   "metadata": {},
   "outputs": [
    {
     "name": "stdout",
     "output_type": "stream",
     "text": [
      "   *\n",
      "  ***\n",
      " *****\n",
      "*******\n"
     ]
    }
   ],
   "source": [
    "n = 4\n",
    "for i in range(1, n + 1):\n",
    "        # 공백 출력\n",
    "        for j in range(n - i):\n",
    "            print(\" \", end=\"\")\n",
    "        # 별 출력\n",
    "        for k in range(2 * i - 1):\n",
    "            print(\"*\", end=\"\")\n",
    "        # 한 줄 완성 후 줄바꿈\n",
    "        print()\n"
   ]
  },
  {
   "cell_type": "code",
   "execution_count": null,
   "id": "8c74c090",
   "metadata": {},
   "outputs": [],
   "source": []
  },
  {
   "cell_type": "code",
   "execution_count": null,
   "id": "b77ab44a",
   "metadata": {},
   "outputs": [],
   "source": []
  }
 ],
 "metadata": {
  "kernelspec": {
   "display_name": "Python 3 (ipykernel)",
   "language": "python",
   "name": "python3"
  },
  "language_info": {
   "codemirror_mode": {
    "name": "ipython",
    "version": 3
   },
   "file_extension": ".py",
   "mimetype": "text/x-python",
   "name": "python",
   "nbconvert_exporter": "python",
   "pygments_lexer": "ipython3",
   "version": "3.11.5"
  }
 },
 "nbformat": 4,
 "nbformat_minor": 5
}
