{
 "cells": [
  {
   "cell_type": "code",
   "execution_count": 16,
   "id": "04eadf2d",
   "metadata": {},
   "outputs": [],
   "source": [
    "b = [5,4,3,2,1]\n"
   ]
  },
  {
   "cell_type": "code",
   "execution_count": 17,
   "id": "74f373bc",
   "metadata": {},
   "outputs": [],
   "source": [
    "def bubble(a):\n",
    "    i=0\n",
    "    roop=1\n",
    "    for j in range(len(a)-1):\n",
    "        print(roop)\n",
    "        for i in range(len(a)-1):\n",
    "            print(a)\n",
    "            if a[i]>a[i+1]:\n",
    "                temp=a[i]\n",
    "                a[i]=a[i+1]\n",
    "                a[i+1]=temp\n",
    "            print(a)\n",
    "        roop=roop+1\n",
    "    print(a)\n",
    "            "
   ]
  },
  {
   "cell_type": "code",
   "execution_count": 18,
   "id": "fc89cd2d",
   "metadata": {},
   "outputs": [
    {
     "name": "stdout",
     "output_type": "stream",
     "text": [
      "1\n",
      "[5, 4, 3, 2, 1]\n",
      "[4, 5, 3, 2, 1]\n",
      "[4, 5, 3, 2, 1]\n",
      "[4, 3, 5, 2, 1]\n",
      "[4, 3, 5, 2, 1]\n",
      "[4, 3, 2, 5, 1]\n",
      "[4, 3, 2, 5, 1]\n",
      "[4, 3, 2, 1, 5]\n",
      "2\n",
      "[4, 3, 2, 1, 5]\n",
      "[3, 4, 2, 1, 5]\n",
      "[3, 4, 2, 1, 5]\n",
      "[3, 2, 4, 1, 5]\n",
      "[3, 2, 4, 1, 5]\n",
      "[3, 2, 1, 4, 5]\n",
      "[3, 2, 1, 4, 5]\n",
      "[3, 2, 1, 4, 5]\n",
      "3\n",
      "[3, 2, 1, 4, 5]\n",
      "[2, 3, 1, 4, 5]\n",
      "[2, 3, 1, 4, 5]\n",
      "[2, 1, 3, 4, 5]\n",
      "[2, 1, 3, 4, 5]\n",
      "[2, 1, 3, 4, 5]\n",
      "[2, 1, 3, 4, 5]\n",
      "[2, 1, 3, 4, 5]\n",
      "4\n",
      "[2, 1, 3, 4, 5]\n",
      "[1, 2, 3, 4, 5]\n",
      "[1, 2, 3, 4, 5]\n",
      "[1, 2, 3, 4, 5]\n",
      "[1, 2, 3, 4, 5]\n",
      "[1, 2, 3, 4, 5]\n",
      "[1, 2, 3, 4, 5]\n",
      "[1, 2, 3, 4, 5]\n",
      "[1, 2, 3, 4, 5]\n"
     ]
    }
   ],
   "source": [
    "bubble(b)"
   ]
  },
  {
   "cell_type": "code",
   "execution_count": 24,
   "id": "114d6155",
   "metadata": {},
   "outputs": [],
   "source": [
    "def bubble(n):\n",
    "    for i in range(len(n)-1):\n",
    "        for j in range(len(n)-1-i):\n",
    "            print(n)\n",
    "            if n[j]>n[j+1]:\n",
    "                n[j],n[j+1] = n[j+1],n[j]\n",
    "            \n",
    "        print(n)\n",
    "    "
   ]
  },
  {
   "cell_type": "code",
   "execution_count": 25,
   "id": "e508c4b2",
   "metadata": {},
   "outputs": [
    {
     "name": "stdout",
     "output_type": "stream",
     "text": [
      "[5, 4, 3, 2, 1]\n",
      "[4, 5, 3, 2, 1]\n",
      "[4, 3, 5, 2, 1]\n",
      "[4, 3, 2, 5, 1]\n",
      "[4, 3, 2, 1, 5]\n",
      "[4, 3, 2, 1, 5]\n",
      "[3, 4, 2, 1, 5]\n",
      "[3, 2, 4, 1, 5]\n",
      "[3, 2, 1, 4, 5]\n",
      "[3, 2, 1, 4, 5]\n",
      "[2, 3, 1, 4, 5]\n",
      "[2, 1, 3, 4, 5]\n",
      "[2, 1, 3, 4, 5]\n",
      "[1, 2, 3, 4, 5]\n"
     ]
    }
   ],
   "source": [
    "b= [5,4,3,2,1]\n",
    "bubble(b)"
   ]
  },
  {
   "cell_type": "code",
   "execution_count": 1,
   "id": "ea9c506a",
   "metadata": {},
   "outputs": [],
   "source": [
    "def selection_sort(n):\n",
    "    for i in range(len(n)-1):\n",
    "        min_index = i  # 현재 위치의 값을 최소값으로 가정\n",
    "        for j in range(i+1, len(n)):  # 나머지 배열에서 최소값 찾기\n",
    "            if n[j] < n[min_index]:\n",
    "                min_index = j  # 더 작은 값이 발견되면 최소값 인덱스 업데이트\n",
    "        \n",
    "        # 최소값을 현재 위치(i)와 교환\n",
    "        n[i], n[min_index] = n[min_index], n[i]\n",
    "    \n",
    "    print(n)\n"
   ]
  },
  {
   "cell_type": "code",
   "execution_count": 3,
   "id": "d90ce68c",
   "metadata": {},
   "outputs": [
    {
     "name": "stdout",
     "output_type": "stream",
     "text": [
      "[1, 2, 3, 3, 4, 5]\n"
     ]
    }
   ],
   "source": [
    "b= [1,3,5,4,3,2]\n",
    "selection_sort(b)"
   ]
  },
  {
   "cell_type": "code",
   "execution_count": 37,
   "id": "76245350",
   "metadata": {},
   "outputs": [],
   "source": [
    "dic={1:1,2:1}\n",
    "def fibo(n):\n",
    "    if n in dic:\n",
    "        return dic[n]\n",
    "    else:\n",
    "        dic[n]=fibo(n-1)+fibo(n-2)\n",
    "        return dic[n]\n",
    "        "
   ]
  },
  {
   "cell_type": "code",
   "execution_count": 39,
   "id": "471d6f15",
   "metadata": {},
   "outputs": [
    {
     "name": "stdout",
     "output_type": "stream",
     "text": [
      "{1: 1, 2: 1, 3: 2, 4: 3, 5: 5}\n"
     ]
    }
   ],
   "source": [
    "fibo(5)\n",
    "print(dic)"
   ]
  },
  {
   "cell_type": "code",
   "execution_count": 58,
   "id": "a578b9cf",
   "metadata": {},
   "outputs": [],
   "source": [
    "def flat(arr):\n",
    "    flatList=[]\n",
    "    for i in arr:\n",
    "        if type(i)!=list:\n",
    "            flatList+=[i]\n",
    "        else:\n",
    "            flatList+= flat(i)\n",
    "    return flatList"
   ]
  },
  {
   "cell_type": "code",
   "execution_count": 59,
   "id": "e707ab67",
   "metadata": {},
   "outputs": [],
   "source": [
    "a=[[1,2,3],[1,2,3,4],[1,[2,3,[1,2,3]]]]"
   ]
  },
  {
   "cell_type": "code",
   "execution_count": 60,
   "id": "0da65801",
   "metadata": {},
   "outputs": [
    {
     "name": "stdout",
     "output_type": "stream",
     "text": [
      "[1, 2, 3, 1, 2, 3, 4, 1, 2, 3, 1, 2, 3]\n"
     ]
    }
   ],
   "source": [
    "print(flat(a))"
   ]
  },
  {
   "cell_type": "code",
   "execution_count": 61,
   "id": "235ae087",
   "metadata": {},
   "outputs": [],
   "source": [
    "def rev(a,start,end):\n",
    "    if start>=end:\n",
    "        return 1\n",
    "    elif a[start]==a[end]:\n",
    "        return rev(a,start+1,end-1)\n",
    "    else:\n",
    "        return 0\n",
    "    "
   ]
  },
  {
   "cell_type": "code",
   "execution_count": 66,
   "id": "f009d9aa",
   "metadata": {},
   "outputs": [
    {
     "data": {
      "text/plain": [
       "0"
      ]
     },
     "execution_count": 66,
     "metadata": {},
     "output_type": "execute_result"
    }
   ],
   "source": [
    "rev('asdda',0,4)"
   ]
  },
  {
   "cell_type": "code",
   "execution_count": 5,
   "id": "93be2c1a",
   "metadata": {},
   "outputs": [
    {
     "name": "stdout",
     "output_type": "stream",
     "text": [
      "정렬된 배열: [5, 6, 8, 9, 10]\n",
      "비교 횟수: 10\n",
      "교환 횟수: 10\n"
     ]
    }
   ],
   "source": [
    "def insertion_sort(arr):\n",
    "    compare_count = 0  # 비교 횟수\n",
    "    swap_count = 0     # 교환 횟수\n",
    "\n",
    "    # 삽입 정렬 구현\n",
    "    for i in range(1, len(arr)):\n",
    "        key = arr[i]\n",
    "        j = i - 1\n",
    "        \n",
    "        # 정렬된 부분에서 삽입 위치를 찾는 과정\n",
    "        while j >= 0 and arr[j] > key:\n",
    "            compare_count += 1  # 비교 수행\n",
    "            arr[j + 1] = arr[j] # 교환\n",
    "            swap_count += 1     # 교환 횟수 증가\n",
    "            j -= 1\n",
    "        arr[j + 1] = key\n",
    "        \n",
    "        # 마지막 비교 수행, 교환 없이 종료할 때\n",
    "        if j >= 0:\n",
    "            compare_count += 1\n",
    "\n",
    "    return arr, compare_count, swap_count\n",
    "\n",
    "# 예시 실행\n",
    "arr = [10, 9, 8, 6, 5]\n",
    "sorted_arr, compares, swaps = insertion_sort(arr)\n",
    "print(f\"정렬된 배열: {sorted_arr}\")\n",
    "print(f\"비교 횟수: {compares}\")\n",
    "print(f\"교환 횟수: {swaps}\")\n"
   ]
  },
  {
   "cell_type": "code",
   "execution_count": 8,
   "id": "5c0114f3",
   "metadata": {},
   "outputs": [
    {
     "name": "stdout",
     "output_type": "stream",
     "text": [
      "key 가 7일 때 [9, 7, 3, 5, 6] 정렬 전\n",
      "key 가 7일 때 [7, 9, 3, 5, 6] 정렬 후\n",
      "key 가 3일 때 [7, 9, 3, 5, 6] 정렬 전\n",
      "key 가 3일 때 [3, 7, 9, 5, 6] 정렬 후\n",
      "key 가 5일 때 [3, 7, 9, 5, 6] 정렬 전\n",
      "key 가 5일 때 [3, 5, 7, 9, 6] 정렬 후\n",
      "key 가 6일 때 [3, 5, 7, 9, 6] 정렬 전\n",
      "key 가 6일 때 [3, 5, 6, 7, 9] 정렬 후\n",
      "정렬된 배열: [3, 5, 6, 7, 9]\n"
     ]
    }
   ],
   "source": [
    "def insertion_sort(arr):\n",
    "\n",
    "    for i in range(1, len(arr)): # 1->4\n",
    "        key = arr[i]\n",
    "        j = i - 1\n",
    "        while j >= 0 and arr[j] > key:\n",
    "            arr[j + 1] = arr[j]\n",
    "            j -= 1\n",
    "        arr[j + 1] = key\n",
    "    return arr\n",
    "\n",
    "# 예시 실행\n",
    "arr = [9, 7, 3, 5, 6]\n",
    "sorted_arr = insertion_sort(arr)\n",
    "print(f\"정렬된 배열: {sorted_arr}\")\n"
   ]
  },
  {
   "cell_type": "code",
   "execution_count": null,
   "id": "41f81596",
   "metadata": {},
   "outputs": [],
   "source": [
    "key 가 5일 때 [3, 7, 9, 5, 6] 정렬 전\n",
    "key 가 5일 때 [3, 5, 7, 9, 6] 정렬 후"
   ]
  }
 ],
 "metadata": {
  "kernelspec": {
   "display_name": "Python 3 (ipykernel)",
   "language": "python",
   "name": "python3"
  },
  "language_info": {
   "codemirror_mode": {
    "name": "ipython",
    "version": 3
   },
   "file_extension": ".py",
   "mimetype": "text/x-python",
   "name": "python",
   "nbconvert_exporter": "python",
   "pygments_lexer": "ipython3",
   "version": "3.11.5"
  }
 },
 "nbformat": 4,
 "nbformat_minor": 5
}
